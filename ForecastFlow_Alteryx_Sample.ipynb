{
 "cells": [
  {
   "cell_type": "code",
   "execution_count": null,
   "metadata": {},
   "outputs": [],
   "source": [
    "from ayx import Package\n",
    "Package.installPackages('forecastflow')"
   ]
  },
  {
   "cell_type": "code",
   "execution_count": null,
   "metadata": {},
   "outputs": [],
   "source": [
    "from ayx import Alteryx\n",
    "import forecastflow\n",
    "import datetime"
   ]
  },
  {
   "cell_type": "code",
   "execution_count": null,
   "metadata": {},
   "outputs": [],
   "source": [
    "# please change your own accounts\n",
    "email = '********@***.com'\n",
    "password = '***********'\n",
    "project_id = \"*************\"\n",
    "model_id = \"*************\"\n",
    "\n",
    "user = forecastflow.User(email, password)\n",
    "project = user.get_project(project_id)\n",
    "model = project.get_model(model_id)\n",
    "\n",
    "input_data = Alteryx.read(\"#1\")\n",
    "\n",
    "# Change these comment, if you want \n",
    "data_name = \"Alteryx \"+str(datetime.datetime.now())\n",
    "prediction_name = \"first altaryx connection\"\n",
    "\n",
    "prediction_data = project.create_data_source(\n",
    "        input_data,\n",
    "        data_name,\n",
    "        forecastflow.DataSourceLabel.PREDICTION\n",
    "    )\n",
    "\n",
    "prediction = model.create_prediction(\n",
    "        prediction_data,\n",
    "        prediction_name\n",
    "    )\n",
    "\n",
    "result = prediction.get_result()\n",
    "Alteryx.write(result,1)"
   ]
  }
 ],
 "metadata": {
  "kernelspec": {
   "display_name": "Python 3",
   "language": "python",
   "name": "python3"
  },
  "language_info": {
   "codemirror_mode": {
    "name": "ipython",
    "version": 3
   },
   "file_extension": ".py",
   "mimetype": "text/x-python",
   "name": "python",
   "nbconvert_exporter": "python",
   "pygments_lexer": "ipython3",
   "version": "3.7.3"
  }
 },
 "nbformat": 4,
 "nbformat_minor": 2
}
